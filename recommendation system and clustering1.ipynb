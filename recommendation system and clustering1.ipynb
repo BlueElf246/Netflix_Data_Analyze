{
 "cells": [
  {
   "cell_type": "code",
   "execution_count": 16,
   "id": "e2db12e7",
   "metadata": {},
   "outputs": [
    {
     "name": "stderr",
     "output_type": "stream",
     "text": [
      "2023-06-14 23:19:12.253044: I tensorflow/compiler/jit/xla_cpu_device.cc:41] Not creating XLA devices, tf_xla_enable_xla_devices not set\n"
     ]
    }
   ],
   "source": [
    "#Importing the libraries\n",
    "import pandas as pd\n",
    "import numpy as np\n",
    "import pylab as pl\n",
    "import spacy\n",
    "import sklearn\n",
    "# import en_core_web_sm\n",
    "\n",
    "import matplotlib.pyplot as plt\n",
    "import plotly.express as px\n",
    "import seaborn as sns\n",
    "import warnings\n",
    "warnings.filterwarnings('ignore')\n",
    "\n",
    "from nltk.corpus import stopwords  #stopwords\n",
    "from nltk import word_tokenize,sent_tokenize # tokenizing\n",
    "from nltk.stem import PorterStemmer,LancasterStemmer  # using the Porter Stemmer and Lancaster Stemmer and others\n",
    "from nltk.stem.snowball import SnowballStemmer\n",
    "from nltk.stem import WordNetLemmatizer  # lammatizer from WordNet\n",
    "# !pip install nltk\n",
    "import nltk \n",
    "# !python3 -c \"import nltk; nltk.download('all')\"\n",
    "\n",
    "# for named entity recognition (NER)\n",
    "from nltk import ne_chunk\n",
    "\n",
    "# vectorizers for creating the document-term-matrix (DTM)\n",
    "from sklearn.feature_extraction.text import TfidfVectorizer,CountVectorizer\n",
    "from sklearn.decomposition import TruncatedSVD\n",
    "\n",
    "#stop-words\n",
    "# nltk.download('stopwords')\n",
    "from nltk.corpus import stopwords\n",
    "STOPWORDS = set(stopwords.words('english'))\n",
    "from sklearn.decomposition import LatentDirichletAllocation\n",
    "from wordcloud import WordCloud\n",
    "from sklearn.cluster import KMeans\n",
    "from sklearn.decomposition import PCA\n",
    "from sklearn.metrics.pairwise import linear_kernel\n",
    "from sklearn.preprocessing import StandardScaler\n",
    "\n",
    "\n",
    "# Importing libraries for clustering\n",
    "import matplotlib.cm as cm\n",
    "from sklearn import metrics\n",
    "from sklearn.preprocessing import LabelEncoder\n",
    "from sklearn.preprocessing import StandardScaler\n",
    "from sklearn.decomposition import PCA\n",
    "from sklearn.metrics import silhouette_samples, silhouette_score\n",
    "from sklearn.preprocessing import MinMaxScaler\n",
    "from sklearn.preprocessing import MultiLabelBinarizer\n",
    "from sklearn.preprocessing import OneHotEncoder"
   ]
  },
  {
   "cell_type": "code",
   "execution_count": 2,
   "id": "f3ae4ccd",
   "metadata": {},
   "outputs": [],
   "source": [
    "import en_core_web_lg"
   ]
  },
  {
   "cell_type": "code",
   "execution_count": 3,
   "id": "2e2e4b5b",
   "metadata": {},
   "outputs": [],
   "source": [
    "df = pd.read_csv('netflix_titles.csv')"
   ]
  },
  {
   "cell_type": "markdown",
   "id": "0df800ce",
   "metadata": {},
   "source": [
    "# K_Means clustering"
   ]
  },
  {
   "cell_type": "markdown",
   "id": "1098fc1f",
   "metadata": {},
   "source": [
    "In this section, I will use the cast, director, countries, rating and listed_in feature to cluster movie/Tv-shows.\n",
    "The purpose of this clustering is to recommend related movies/Tv-Show which simmilar to given movie"
   ]
  },
  {
   "cell_type": "code",
   "execution_count": 74,
   "id": "40041dbb",
   "metadata": {},
   "outputs": [],
   "source": [
    "df = pd.read_csv(\"netflix_titles.csv\")"
   ]
  },
  {
   "cell_type": "markdown",
   "id": "371d4dc5",
   "metadata": {},
   "source": [
    "The first step is to encoding these feature using one-hot-encoding and MultiLabelBinazier. "
   ]
  },
  {
   "cell_type": "code",
   "execution_count": 106,
   "id": "39fc2c6d",
   "metadata": {},
   "outputs": [
    {
     "data": {
      "text/html": [
       "<div>\n",
       "<style scoped>\n",
       "    .dataframe tbody tr th:only-of-type {\n",
       "        vertical-align: middle;\n",
       "    }\n",
       "\n",
       "    .dataframe tbody tr th {\n",
       "        vertical-align: top;\n",
       "    }\n",
       "\n",
       "    .dataframe thead th {\n",
       "        text-align: right;\n",
       "    }\n",
       "</style>\n",
       "<table border=\"1\" class=\"dataframe\">\n",
       "  <thead>\n",
       "    <tr style=\"text-align: right;\">\n",
       "      <th></th>\n",
       "      <th>type</th>\n",
       "      <th>country</th>\n",
       "      <th>title</th>\n",
       "      <th>rating</th>\n",
       "      <th>listed_in</th>\n",
       "      <th>description</th>\n",
       "    </tr>\n",
       "  </thead>\n",
       "  <tbody>\n",
       "    <tr>\n",
       "      <th>0</th>\n",
       "      <td>Movie</td>\n",
       "      <td>United States</td>\n",
       "      <td>Dick Johnson Is Dead</td>\n",
       "      <td>PG-13</td>\n",
       "      <td>Documentaries</td>\n",
       "      <td>As her father nears the end of his life, filmm...</td>\n",
       "    </tr>\n",
       "    <tr>\n",
       "      <th>1</th>\n",
       "      <td>TV Show</td>\n",
       "      <td>South Africa</td>\n",
       "      <td>Blood &amp; Water</td>\n",
       "      <td>TV-MA</td>\n",
       "      <td>International TV Shows, TV Dramas, TV Mysteries</td>\n",
       "      <td>After crossing paths at a party, a Cape Town t...</td>\n",
       "    </tr>\n",
       "    <tr>\n",
       "      <th>2</th>\n",
       "      <td>TV Show</td>\n",
       "      <td>NaN</td>\n",
       "      <td>Ganglands</td>\n",
       "      <td>TV-MA</td>\n",
       "      <td>Crime TV Shows, International TV Shows, TV Act...</td>\n",
       "      <td>To protect his family from a powerful drug lor...</td>\n",
       "    </tr>\n",
       "    <tr>\n",
       "      <th>3</th>\n",
       "      <td>TV Show</td>\n",
       "      <td>NaN</td>\n",
       "      <td>Jailbirds New Orleans</td>\n",
       "      <td>TV-MA</td>\n",
       "      <td>Docuseries, Reality TV</td>\n",
       "      <td>Feuds, flirtations and toilet talk go down amo...</td>\n",
       "    </tr>\n",
       "    <tr>\n",
       "      <th>4</th>\n",
       "      <td>TV Show</td>\n",
       "      <td>India</td>\n",
       "      <td>Kota Factory</td>\n",
       "      <td>TV-MA</td>\n",
       "      <td>International TV Shows, Romantic TV Shows, TV ...</td>\n",
       "      <td>In a city of coaching centers known to train I...</td>\n",
       "    </tr>\n",
       "    <tr>\n",
       "      <th>...</th>\n",
       "      <td>...</td>\n",
       "      <td>...</td>\n",
       "      <td>...</td>\n",
       "      <td>...</td>\n",
       "      <td>...</td>\n",
       "      <td>...</td>\n",
       "    </tr>\n",
       "    <tr>\n",
       "      <th>8802</th>\n",
       "      <td>Movie</td>\n",
       "      <td>United States</td>\n",
       "      <td>Zodiac</td>\n",
       "      <td>R</td>\n",
       "      <td>Cult Movies, Dramas, Thrillers</td>\n",
       "      <td>A political cartoonist, a crime reporter and a...</td>\n",
       "    </tr>\n",
       "    <tr>\n",
       "      <th>8803</th>\n",
       "      <td>TV Show</td>\n",
       "      <td>NaN</td>\n",
       "      <td>Zombie Dumb</td>\n",
       "      <td>TV-Y7</td>\n",
       "      <td>Kids' TV, Korean TV Shows, TV Comedies</td>\n",
       "      <td>While living alone in a spooky town, a young g...</td>\n",
       "    </tr>\n",
       "    <tr>\n",
       "      <th>8804</th>\n",
       "      <td>Movie</td>\n",
       "      <td>United States</td>\n",
       "      <td>Zombieland</td>\n",
       "      <td>R</td>\n",
       "      <td>Comedies, Horror Movies</td>\n",
       "      <td>Looking to survive in a world taken over by zo...</td>\n",
       "    </tr>\n",
       "    <tr>\n",
       "      <th>8805</th>\n",
       "      <td>Movie</td>\n",
       "      <td>United States</td>\n",
       "      <td>Zoom</td>\n",
       "      <td>PG</td>\n",
       "      <td>Children &amp; Family Movies, Comedies</td>\n",
       "      <td>Dragged from civilian life, a former superhero...</td>\n",
       "    </tr>\n",
       "    <tr>\n",
       "      <th>8806</th>\n",
       "      <td>Movie</td>\n",
       "      <td>India</td>\n",
       "      <td>Zubaan</td>\n",
       "      <td>TV-14</td>\n",
       "      <td>Dramas, International Movies, Music &amp; Musicals</td>\n",
       "      <td>A scrappy but poor boy worms his way into a ty...</td>\n",
       "    </tr>\n",
       "  </tbody>\n",
       "</table>\n",
       "<p>8807 rows × 6 columns</p>\n",
       "</div>"
      ],
      "text/plain": [
       "         type        country                  title rating  \\\n",
       "0       Movie  United States   Dick Johnson Is Dead  PG-13   \n",
       "1     TV Show   South Africa          Blood & Water  TV-MA   \n",
       "2     TV Show            NaN              Ganglands  TV-MA   \n",
       "3     TV Show            NaN  Jailbirds New Orleans  TV-MA   \n",
       "4     TV Show          India           Kota Factory  TV-MA   \n",
       "...       ...            ...                    ...    ...   \n",
       "8802    Movie  United States                 Zodiac      R   \n",
       "8803  TV Show            NaN            Zombie Dumb  TV-Y7   \n",
       "8804    Movie  United States             Zombieland      R   \n",
       "8805    Movie  United States                   Zoom     PG   \n",
       "8806    Movie          India                 Zubaan  TV-14   \n",
       "\n",
       "                                              listed_in  \\\n",
       "0                                         Documentaries   \n",
       "1       International TV Shows, TV Dramas, TV Mysteries   \n",
       "2     Crime TV Shows, International TV Shows, TV Act...   \n",
       "3                                Docuseries, Reality TV   \n",
       "4     International TV Shows, Romantic TV Shows, TV ...   \n",
       "...                                                 ...   \n",
       "8802                     Cult Movies, Dramas, Thrillers   \n",
       "8803             Kids' TV, Korean TV Shows, TV Comedies   \n",
       "8804                            Comedies, Horror Movies   \n",
       "8805                 Children & Family Movies, Comedies   \n",
       "8806     Dramas, International Movies, Music & Musicals   \n",
       "\n",
       "                                            description  \n",
       "0     As her father nears the end of his life, filmm...  \n",
       "1     After crossing paths at a party, a Cape Town t...  \n",
       "2     To protect his family from a powerful drug lor...  \n",
       "3     Feuds, flirtations and toilet talk go down amo...  \n",
       "4     In a city of coaching centers known to train I...  \n",
       "...                                                 ...  \n",
       "8802  A political cartoonist, a crime reporter and a...  \n",
       "8803  While living alone in a spooky town, a young g...  \n",
       "8804  Looking to survive in a world taken over by zo...  \n",
       "8805  Dragged from civilian life, a former superhero...  \n",
       "8806  A scrappy but poor boy worms his way into a ty...  \n",
       "\n",
       "[8807 rows x 6 columns]"
      ]
     },
     "execution_count": 106,
     "metadata": {},
     "output_type": "execute_result"
    }
   ],
   "source": [
    "df_reduced = df[['type', 'country', 'title', 'rating', 'listed_in', 'description']]\n",
    "df_reduced"
   ]
  },
  {
   "cell_type": "code",
   "execution_count": 107,
   "id": "f7bec004",
   "metadata": {},
   "outputs": [],
   "source": [
    "df_reduced['listed_in'] = df_reduced['listed_in'].str.replace(\"  \",\" \").str.split(', ').to_list()"
   ]
  },
  {
   "cell_type": "code",
   "execution_count": 108,
   "id": "5c32780b",
   "metadata": {},
   "outputs": [
    {
     "data": {
      "text/html": [
       "<div>\n",
       "<style scoped>\n",
       "    .dataframe tbody tr th:only-of-type {\n",
       "        vertical-align: middle;\n",
       "    }\n",
       "\n",
       "    .dataframe tbody tr th {\n",
       "        vertical-align: top;\n",
       "    }\n",
       "\n",
       "    .dataframe thead th {\n",
       "        text-align: right;\n",
       "    }\n",
       "</style>\n",
       "<table border=\"1\" class=\"dataframe\">\n",
       "  <thead>\n",
       "    <tr style=\"text-align: right;\">\n",
       "      <th></th>\n",
       "      <th>type</th>\n",
       "      <th>country</th>\n",
       "      <th>title</th>\n",
       "      <th>rating</th>\n",
       "      <th>listed_in</th>\n",
       "      <th>description</th>\n",
       "    </tr>\n",
       "  </thead>\n",
       "  <tbody>\n",
       "    <tr>\n",
       "      <th>0</th>\n",
       "      <td>Movie</td>\n",
       "      <td>United States</td>\n",
       "      <td>Dick Johnson Is Dead</td>\n",
       "      <td>PG-13</td>\n",
       "      <td>[Documentaries]</td>\n",
       "      <td>As her father nears the end of his life, filmm...</td>\n",
       "    </tr>\n",
       "    <tr>\n",
       "      <th>1</th>\n",
       "      <td>TV Show</td>\n",
       "      <td>South Africa</td>\n",
       "      <td>Blood &amp; Water</td>\n",
       "      <td>TV-MA</td>\n",
       "      <td>[International TV Shows, TV Dramas, TV Mysteries]</td>\n",
       "      <td>After crossing paths at a party, a Cape Town t...</td>\n",
       "    </tr>\n",
       "    <tr>\n",
       "      <th>2</th>\n",
       "      <td>TV Show</td>\n",
       "      <td>NaN</td>\n",
       "      <td>Ganglands</td>\n",
       "      <td>TV-MA</td>\n",
       "      <td>[Crime TV Shows, International TV Shows, TV Ac...</td>\n",
       "      <td>To protect his family from a powerful drug lor...</td>\n",
       "    </tr>\n",
       "    <tr>\n",
       "      <th>3</th>\n",
       "      <td>TV Show</td>\n",
       "      <td>NaN</td>\n",
       "      <td>Jailbirds New Orleans</td>\n",
       "      <td>TV-MA</td>\n",
       "      <td>[Docuseries, Reality TV]</td>\n",
       "      <td>Feuds, flirtations and toilet talk go down amo...</td>\n",
       "    </tr>\n",
       "    <tr>\n",
       "      <th>4</th>\n",
       "      <td>TV Show</td>\n",
       "      <td>India</td>\n",
       "      <td>Kota Factory</td>\n",
       "      <td>TV-MA</td>\n",
       "      <td>[International TV Shows, Romantic TV Shows, TV...</td>\n",
       "      <td>In a city of coaching centers known to train I...</td>\n",
       "    </tr>\n",
       "    <tr>\n",
       "      <th>...</th>\n",
       "      <td>...</td>\n",
       "      <td>...</td>\n",
       "      <td>...</td>\n",
       "      <td>...</td>\n",
       "      <td>...</td>\n",
       "      <td>...</td>\n",
       "    </tr>\n",
       "    <tr>\n",
       "      <th>8802</th>\n",
       "      <td>Movie</td>\n",
       "      <td>United States</td>\n",
       "      <td>Zodiac</td>\n",
       "      <td>R</td>\n",
       "      <td>[Cult Movies, Dramas, Thrillers]</td>\n",
       "      <td>A political cartoonist, a crime reporter and a...</td>\n",
       "    </tr>\n",
       "    <tr>\n",
       "      <th>8803</th>\n",
       "      <td>TV Show</td>\n",
       "      <td>NaN</td>\n",
       "      <td>Zombie Dumb</td>\n",
       "      <td>TV-Y7</td>\n",
       "      <td>[Kids' TV, Korean TV Shows, TV Comedies]</td>\n",
       "      <td>While living alone in a spooky town, a young g...</td>\n",
       "    </tr>\n",
       "    <tr>\n",
       "      <th>8804</th>\n",
       "      <td>Movie</td>\n",
       "      <td>United States</td>\n",
       "      <td>Zombieland</td>\n",
       "      <td>R</td>\n",
       "      <td>[Comedies, Horror Movies]</td>\n",
       "      <td>Looking to survive in a world taken over by zo...</td>\n",
       "    </tr>\n",
       "    <tr>\n",
       "      <th>8805</th>\n",
       "      <td>Movie</td>\n",
       "      <td>United States</td>\n",
       "      <td>Zoom</td>\n",
       "      <td>PG</td>\n",
       "      <td>[Children &amp; Family Movies, Comedies]</td>\n",
       "      <td>Dragged from civilian life, a former superhero...</td>\n",
       "    </tr>\n",
       "    <tr>\n",
       "      <th>8806</th>\n",
       "      <td>Movie</td>\n",
       "      <td>India</td>\n",
       "      <td>Zubaan</td>\n",
       "      <td>TV-14</td>\n",
       "      <td>[Dramas, International Movies, Music &amp; Musicals]</td>\n",
       "      <td>A scrappy but poor boy worms his way into a ty...</td>\n",
       "    </tr>\n",
       "  </tbody>\n",
       "</table>\n",
       "<p>8807 rows × 6 columns</p>\n",
       "</div>"
      ],
      "text/plain": [
       "         type        country                  title rating  \\\n",
       "0       Movie  United States   Dick Johnson Is Dead  PG-13   \n",
       "1     TV Show   South Africa          Blood & Water  TV-MA   \n",
       "2     TV Show            NaN              Ganglands  TV-MA   \n",
       "3     TV Show            NaN  Jailbirds New Orleans  TV-MA   \n",
       "4     TV Show          India           Kota Factory  TV-MA   \n",
       "...       ...            ...                    ...    ...   \n",
       "8802    Movie  United States                 Zodiac      R   \n",
       "8803  TV Show            NaN            Zombie Dumb  TV-Y7   \n",
       "8804    Movie  United States             Zombieland      R   \n",
       "8805    Movie  United States                   Zoom     PG   \n",
       "8806    Movie          India                 Zubaan  TV-14   \n",
       "\n",
       "                                              listed_in  \\\n",
       "0                                       [Documentaries]   \n",
       "1     [International TV Shows, TV Dramas, TV Mysteries]   \n",
       "2     [Crime TV Shows, International TV Shows, TV Ac...   \n",
       "3                              [Docuseries, Reality TV]   \n",
       "4     [International TV Shows, Romantic TV Shows, TV...   \n",
       "...                                                 ...   \n",
       "8802                   [Cult Movies, Dramas, Thrillers]   \n",
       "8803           [Kids' TV, Korean TV Shows, TV Comedies]   \n",
       "8804                          [Comedies, Horror Movies]   \n",
       "8805               [Children & Family Movies, Comedies]   \n",
       "8806   [Dramas, International Movies, Music & Musicals]   \n",
       "\n",
       "                                            description  \n",
       "0     As her father nears the end of his life, filmm...  \n",
       "1     After crossing paths at a party, a Cape Town t...  \n",
       "2     To protect his family from a powerful drug lor...  \n",
       "3     Feuds, flirtations and toilet talk go down amo...  \n",
       "4     In a city of coaching centers known to train I...  \n",
       "...                                                 ...  \n",
       "8802  A political cartoonist, a crime reporter and a...  \n",
       "8803  While living alone in a spooky town, a young g...  \n",
       "8804  Looking to survive in a world taken over by zo...  \n",
       "8805  Dragged from civilian life, a former superhero...  \n",
       "8806  A scrappy but poor boy worms his way into a ty...  \n",
       "\n",
       "[8807 rows x 6 columns]"
      ]
     },
     "execution_count": 108,
     "metadata": {},
     "output_type": "execute_result"
    }
   ],
   "source": [
    "df_reduced"
   ]
  },
  {
   "cell_type": "code",
   "execution_count": 109,
   "id": "d9cf83f1",
   "metadata": {},
   "outputs": [],
   "source": [
    "mlb = MultiLabelBinarizer()"
   ]
  },
  {
   "cell_type": "code",
   "execution_count": 93,
   "id": "0898b01c",
   "metadata": {},
   "outputs": [
    {
     "data": {
      "text/plain": [
       "(8807, 42)"
      ]
     },
     "execution_count": 93,
     "metadata": {},
     "output_type": "execute_result"
    }
   ],
   "source": [
    "l = pd.DataFrame(mlb.fit_transform(df_reduced.listed_in), columns = mlb.classes_, index = df_reduced.index)\n",
    "l.shape"
   ]
  },
  {
   "cell_type": "code",
   "execution_count": 94,
   "id": "2d5d1bba",
   "metadata": {},
   "outputs": [
    {
     "data": {
      "text/html": [
       "<div>\n",
       "<style scoped>\n",
       "    .dataframe tbody tr th:only-of-type {\n",
       "        vertical-align: middle;\n",
       "    }\n",
       "\n",
       "    .dataframe tbody tr th {\n",
       "        vertical-align: top;\n",
       "    }\n",
       "\n",
       "    .dataframe thead th {\n",
       "        text-align: right;\n",
       "    }\n",
       "</style>\n",
       "<table border=\"1\" class=\"dataframe\">\n",
       "  <thead>\n",
       "    <tr style=\"text-align: right;\">\n",
       "      <th></th>\n",
       "      <th>Action &amp; Adventure</th>\n",
       "      <th>Anime Features</th>\n",
       "      <th>Anime Series</th>\n",
       "      <th>British TV Shows</th>\n",
       "      <th>Children &amp; Family Movies</th>\n",
       "      <th>Classic &amp; Cult TV</th>\n",
       "      <th>Classic Movies</th>\n",
       "      <th>Comedies</th>\n",
       "      <th>Crime TV Shows</th>\n",
       "      <th>Cult Movies</th>\n",
       "      <th>...</th>\n",
       "      <th>TV Action &amp; Adventure</th>\n",
       "      <th>TV Comedies</th>\n",
       "      <th>TV Dramas</th>\n",
       "      <th>TV Horror</th>\n",
       "      <th>TV Mysteries</th>\n",
       "      <th>TV Sci-Fi &amp; Fantasy</th>\n",
       "      <th>TV Shows</th>\n",
       "      <th>TV Thrillers</th>\n",
       "      <th>Teen TV Shows</th>\n",
       "      <th>Thrillers</th>\n",
       "    </tr>\n",
       "  </thead>\n",
       "  <tbody>\n",
       "    <tr>\n",
       "      <th>0</th>\n",
       "      <td>0</td>\n",
       "      <td>0</td>\n",
       "      <td>0</td>\n",
       "      <td>0</td>\n",
       "      <td>0</td>\n",
       "      <td>0</td>\n",
       "      <td>0</td>\n",
       "      <td>0</td>\n",
       "      <td>0</td>\n",
       "      <td>0</td>\n",
       "      <td>...</td>\n",
       "      <td>0</td>\n",
       "      <td>0</td>\n",
       "      <td>0</td>\n",
       "      <td>0</td>\n",
       "      <td>0</td>\n",
       "      <td>0</td>\n",
       "      <td>0</td>\n",
       "      <td>0</td>\n",
       "      <td>0</td>\n",
       "      <td>0</td>\n",
       "    </tr>\n",
       "    <tr>\n",
       "      <th>1</th>\n",
       "      <td>0</td>\n",
       "      <td>0</td>\n",
       "      <td>0</td>\n",
       "      <td>0</td>\n",
       "      <td>0</td>\n",
       "      <td>0</td>\n",
       "      <td>0</td>\n",
       "      <td>0</td>\n",
       "      <td>0</td>\n",
       "      <td>0</td>\n",
       "      <td>...</td>\n",
       "      <td>0</td>\n",
       "      <td>0</td>\n",
       "      <td>1</td>\n",
       "      <td>0</td>\n",
       "      <td>1</td>\n",
       "      <td>0</td>\n",
       "      <td>0</td>\n",
       "      <td>0</td>\n",
       "      <td>0</td>\n",
       "      <td>0</td>\n",
       "    </tr>\n",
       "    <tr>\n",
       "      <th>2</th>\n",
       "      <td>0</td>\n",
       "      <td>0</td>\n",
       "      <td>0</td>\n",
       "      <td>0</td>\n",
       "      <td>0</td>\n",
       "      <td>0</td>\n",
       "      <td>0</td>\n",
       "      <td>0</td>\n",
       "      <td>1</td>\n",
       "      <td>0</td>\n",
       "      <td>...</td>\n",
       "      <td>1</td>\n",
       "      <td>0</td>\n",
       "      <td>0</td>\n",
       "      <td>0</td>\n",
       "      <td>0</td>\n",
       "      <td>0</td>\n",
       "      <td>0</td>\n",
       "      <td>0</td>\n",
       "      <td>0</td>\n",
       "      <td>0</td>\n",
       "    </tr>\n",
       "    <tr>\n",
       "      <th>3</th>\n",
       "      <td>0</td>\n",
       "      <td>0</td>\n",
       "      <td>0</td>\n",
       "      <td>0</td>\n",
       "      <td>0</td>\n",
       "      <td>0</td>\n",
       "      <td>0</td>\n",
       "      <td>0</td>\n",
       "      <td>0</td>\n",
       "      <td>0</td>\n",
       "      <td>...</td>\n",
       "      <td>0</td>\n",
       "      <td>0</td>\n",
       "      <td>0</td>\n",
       "      <td>0</td>\n",
       "      <td>0</td>\n",
       "      <td>0</td>\n",
       "      <td>0</td>\n",
       "      <td>0</td>\n",
       "      <td>0</td>\n",
       "      <td>0</td>\n",
       "    </tr>\n",
       "    <tr>\n",
       "      <th>4</th>\n",
       "      <td>0</td>\n",
       "      <td>0</td>\n",
       "      <td>0</td>\n",
       "      <td>0</td>\n",
       "      <td>0</td>\n",
       "      <td>0</td>\n",
       "      <td>0</td>\n",
       "      <td>0</td>\n",
       "      <td>0</td>\n",
       "      <td>0</td>\n",
       "      <td>...</td>\n",
       "      <td>0</td>\n",
       "      <td>1</td>\n",
       "      <td>0</td>\n",
       "      <td>0</td>\n",
       "      <td>0</td>\n",
       "      <td>0</td>\n",
       "      <td>0</td>\n",
       "      <td>0</td>\n",
       "      <td>0</td>\n",
       "      <td>0</td>\n",
       "    </tr>\n",
       "  </tbody>\n",
       "</table>\n",
       "<p>5 rows × 42 columns</p>\n",
       "</div>"
      ],
      "text/plain": [
       "   Action & Adventure  Anime Features  Anime Series  British TV Shows  \\\n",
       "0                   0               0             0                 0   \n",
       "1                   0               0             0                 0   \n",
       "2                   0               0             0                 0   \n",
       "3                   0               0             0                 0   \n",
       "4                   0               0             0                 0   \n",
       "\n",
       "   Children & Family Movies  Classic & Cult TV  Classic Movies  Comedies  \\\n",
       "0                         0                  0               0         0   \n",
       "1                         0                  0               0         0   \n",
       "2                         0                  0               0         0   \n",
       "3                         0                  0               0         0   \n",
       "4                         0                  0               0         0   \n",
       "\n",
       "   Crime TV Shows  Cult Movies  ...  TV Action & Adventure  TV Comedies  \\\n",
       "0               0            0  ...                      0            0   \n",
       "1               0            0  ...                      0            0   \n",
       "2               1            0  ...                      1            0   \n",
       "3               0            0  ...                      0            0   \n",
       "4               0            0  ...                      0            1   \n",
       "\n",
       "   TV Dramas  TV Horror  TV Mysteries  TV Sci-Fi & Fantasy  TV Shows  \\\n",
       "0          0          0             0                    0         0   \n",
       "1          1          0             1                    0         0   \n",
       "2          0          0             0                    0         0   \n",
       "3          0          0             0                    0         0   \n",
       "4          0          0             0                    0         0   \n",
       "\n",
       "   TV Thrillers  Teen TV Shows  Thrillers  \n",
       "0             0              0          0  \n",
       "1             0              0          0  \n",
       "2             0              0          0  \n",
       "3             0              0          0  \n",
       "4             0              0          0  \n",
       "\n",
       "[5 rows x 42 columns]"
      ]
     },
     "execution_count": 94,
     "metadata": {},
     "output_type": "execute_result"
    }
   ],
   "source": [
    "l.head()"
   ]
  },
  {
   "cell_type": "code",
   "execution_count": 110,
   "id": "57f5e6ad",
   "metadata": {},
   "outputs": [
    {
     "data": {
      "text/plain": [
       "(8807, 47)"
      ]
     },
     "execution_count": 110,
     "metadata": {},
     "output_type": "execute_result"
    }
   ],
   "source": [
    "mlb = MultiLabelBinarizer()\n",
    "\n",
    "# Encode each genre and join to dataframe\n",
    "mlb_df = df_reduced.join(pd.DataFrame(mlb.fit_transform(df_reduced.pop('listed_in')),\n",
    "                                              columns=mlb.classes_,\n",
    "                                              index=df_reduced.index))\n",
    "mlb_df.shape"
   ]
  },
  {
   "cell_type": "code",
   "execution_count": 104,
   "id": "7a45d570",
   "metadata": {},
   "outputs": [],
   "source": [
    "ohe = OneHotEncoder(handle_unknown='ignore', sparse=False)\n",
    "ohe_df = pd.DataFrame(ohe.fit_transform(df_reduced[['rating']]), columns = ohe.categories_, index= df_reduced.index)"
   ]
  },
  {
   "cell_type": "code",
   "execution_count": 111,
   "id": "64eb877a",
   "metadata": {},
   "outputs": [],
   "source": [
    "mlb_df = mlb_df.join(ohe_df)"
   ]
  },
  {
   "cell_type": "code",
   "execution_count": 112,
   "id": "04229939",
   "metadata": {
    "scrolled": true
   },
   "outputs": [
    {
     "data": {
      "text/html": [
       "<div>\n",
       "<style scoped>\n",
       "    .dataframe tbody tr th:only-of-type {\n",
       "        vertical-align: middle;\n",
       "    }\n",
       "\n",
       "    .dataframe tbody tr th {\n",
       "        vertical-align: top;\n",
       "    }\n",
       "\n",
       "    .dataframe thead th {\n",
       "        text-align: right;\n",
       "    }\n",
       "</style>\n",
       "<table border=\"1\" class=\"dataframe\">\n",
       "  <thead>\n",
       "    <tr style=\"text-align: right;\">\n",
       "      <th></th>\n",
       "      <th>type</th>\n",
       "      <th>country</th>\n",
       "      <th>title</th>\n",
       "      <th>rating</th>\n",
       "      <th>description</th>\n",
       "      <th>Action &amp; Adventure</th>\n",
       "      <th>Anime Features</th>\n",
       "      <th>Anime Series</th>\n",
       "      <th>British TV Shows</th>\n",
       "      <th>Children &amp; Family Movies</th>\n",
       "      <th>...</th>\n",
       "      <th>(R,)</th>\n",
       "      <th>(TV-14,)</th>\n",
       "      <th>(TV-G,)</th>\n",
       "      <th>(TV-MA,)</th>\n",
       "      <th>(TV-PG,)</th>\n",
       "      <th>(TV-Y,)</th>\n",
       "      <th>(TV-Y7,)</th>\n",
       "      <th>(TV-Y7-FV,)</th>\n",
       "      <th>(UR,)</th>\n",
       "      <th>(nan,)</th>\n",
       "    </tr>\n",
       "  </thead>\n",
       "  <tbody>\n",
       "    <tr>\n",
       "      <th>0</th>\n",
       "      <td>Movie</td>\n",
       "      <td>United States</td>\n",
       "      <td>Dick Johnson Is Dead</td>\n",
       "      <td>PG-13</td>\n",
       "      <td>As her father nears the end of his life, filmm...</td>\n",
       "      <td>0</td>\n",
       "      <td>0</td>\n",
       "      <td>0</td>\n",
       "      <td>0</td>\n",
       "      <td>0</td>\n",
       "      <td>...</td>\n",
       "      <td>0.0</td>\n",
       "      <td>0.0</td>\n",
       "      <td>0.0</td>\n",
       "      <td>0.0</td>\n",
       "      <td>0.0</td>\n",
       "      <td>0.0</td>\n",
       "      <td>0.0</td>\n",
       "      <td>0.0</td>\n",
       "      <td>0.0</td>\n",
       "      <td>0.0</td>\n",
       "    </tr>\n",
       "    <tr>\n",
       "      <th>1</th>\n",
       "      <td>TV Show</td>\n",
       "      <td>South Africa</td>\n",
       "      <td>Blood &amp; Water</td>\n",
       "      <td>TV-MA</td>\n",
       "      <td>After crossing paths at a party, a Cape Town t...</td>\n",
       "      <td>0</td>\n",
       "      <td>0</td>\n",
       "      <td>0</td>\n",
       "      <td>0</td>\n",
       "      <td>0</td>\n",
       "      <td>...</td>\n",
       "      <td>0.0</td>\n",
       "      <td>0.0</td>\n",
       "      <td>0.0</td>\n",
       "      <td>1.0</td>\n",
       "      <td>0.0</td>\n",
       "      <td>0.0</td>\n",
       "      <td>0.0</td>\n",
       "      <td>0.0</td>\n",
       "      <td>0.0</td>\n",
       "      <td>0.0</td>\n",
       "    </tr>\n",
       "    <tr>\n",
       "      <th>2</th>\n",
       "      <td>TV Show</td>\n",
       "      <td>NaN</td>\n",
       "      <td>Ganglands</td>\n",
       "      <td>TV-MA</td>\n",
       "      <td>To protect his family from a powerful drug lor...</td>\n",
       "      <td>0</td>\n",
       "      <td>0</td>\n",
       "      <td>0</td>\n",
       "      <td>0</td>\n",
       "      <td>0</td>\n",
       "      <td>...</td>\n",
       "      <td>0.0</td>\n",
       "      <td>0.0</td>\n",
       "      <td>0.0</td>\n",
       "      <td>1.0</td>\n",
       "      <td>0.0</td>\n",
       "      <td>0.0</td>\n",
       "      <td>0.0</td>\n",
       "      <td>0.0</td>\n",
       "      <td>0.0</td>\n",
       "      <td>0.0</td>\n",
       "    </tr>\n",
       "    <tr>\n",
       "      <th>3</th>\n",
       "      <td>TV Show</td>\n",
       "      <td>NaN</td>\n",
       "      <td>Jailbirds New Orleans</td>\n",
       "      <td>TV-MA</td>\n",
       "      <td>Feuds, flirtations and toilet talk go down amo...</td>\n",
       "      <td>0</td>\n",
       "      <td>0</td>\n",
       "      <td>0</td>\n",
       "      <td>0</td>\n",
       "      <td>0</td>\n",
       "      <td>...</td>\n",
       "      <td>0.0</td>\n",
       "      <td>0.0</td>\n",
       "      <td>0.0</td>\n",
       "      <td>1.0</td>\n",
       "      <td>0.0</td>\n",
       "      <td>0.0</td>\n",
       "      <td>0.0</td>\n",
       "      <td>0.0</td>\n",
       "      <td>0.0</td>\n",
       "      <td>0.0</td>\n",
       "    </tr>\n",
       "    <tr>\n",
       "      <th>4</th>\n",
       "      <td>TV Show</td>\n",
       "      <td>India</td>\n",
       "      <td>Kota Factory</td>\n",
       "      <td>TV-MA</td>\n",
       "      <td>In a city of coaching centers known to train I...</td>\n",
       "      <td>0</td>\n",
       "      <td>0</td>\n",
       "      <td>0</td>\n",
       "      <td>0</td>\n",
       "      <td>0</td>\n",
       "      <td>...</td>\n",
       "      <td>0.0</td>\n",
       "      <td>0.0</td>\n",
       "      <td>0.0</td>\n",
       "      <td>1.0</td>\n",
       "      <td>0.0</td>\n",
       "      <td>0.0</td>\n",
       "      <td>0.0</td>\n",
       "      <td>0.0</td>\n",
       "      <td>0.0</td>\n",
       "      <td>0.0</td>\n",
       "    </tr>\n",
       "    <tr>\n",
       "      <th>...</th>\n",
       "      <td>...</td>\n",
       "      <td>...</td>\n",
       "      <td>...</td>\n",
       "      <td>...</td>\n",
       "      <td>...</td>\n",
       "      <td>...</td>\n",
       "      <td>...</td>\n",
       "      <td>...</td>\n",
       "      <td>...</td>\n",
       "      <td>...</td>\n",
       "      <td>...</td>\n",
       "      <td>...</td>\n",
       "      <td>...</td>\n",
       "      <td>...</td>\n",
       "      <td>...</td>\n",
       "      <td>...</td>\n",
       "      <td>...</td>\n",
       "      <td>...</td>\n",
       "      <td>...</td>\n",
       "      <td>...</td>\n",
       "      <td>...</td>\n",
       "    </tr>\n",
       "    <tr>\n",
       "      <th>8802</th>\n",
       "      <td>Movie</td>\n",
       "      <td>United States</td>\n",
       "      <td>Zodiac</td>\n",
       "      <td>R</td>\n",
       "      <td>A political cartoonist, a crime reporter and a...</td>\n",
       "      <td>0</td>\n",
       "      <td>0</td>\n",
       "      <td>0</td>\n",
       "      <td>0</td>\n",
       "      <td>0</td>\n",
       "      <td>...</td>\n",
       "      <td>1.0</td>\n",
       "      <td>0.0</td>\n",
       "      <td>0.0</td>\n",
       "      <td>0.0</td>\n",
       "      <td>0.0</td>\n",
       "      <td>0.0</td>\n",
       "      <td>0.0</td>\n",
       "      <td>0.0</td>\n",
       "      <td>0.0</td>\n",
       "      <td>0.0</td>\n",
       "    </tr>\n",
       "    <tr>\n",
       "      <th>8803</th>\n",
       "      <td>TV Show</td>\n",
       "      <td>NaN</td>\n",
       "      <td>Zombie Dumb</td>\n",
       "      <td>TV-Y7</td>\n",
       "      <td>While living alone in a spooky town, a young g...</td>\n",
       "      <td>0</td>\n",
       "      <td>0</td>\n",
       "      <td>0</td>\n",
       "      <td>0</td>\n",
       "      <td>0</td>\n",
       "      <td>...</td>\n",
       "      <td>0.0</td>\n",
       "      <td>0.0</td>\n",
       "      <td>0.0</td>\n",
       "      <td>0.0</td>\n",
       "      <td>0.0</td>\n",
       "      <td>0.0</td>\n",
       "      <td>1.0</td>\n",
       "      <td>0.0</td>\n",
       "      <td>0.0</td>\n",
       "      <td>0.0</td>\n",
       "    </tr>\n",
       "    <tr>\n",
       "      <th>8804</th>\n",
       "      <td>Movie</td>\n",
       "      <td>United States</td>\n",
       "      <td>Zombieland</td>\n",
       "      <td>R</td>\n",
       "      <td>Looking to survive in a world taken over by zo...</td>\n",
       "      <td>0</td>\n",
       "      <td>0</td>\n",
       "      <td>0</td>\n",
       "      <td>0</td>\n",
       "      <td>0</td>\n",
       "      <td>...</td>\n",
       "      <td>1.0</td>\n",
       "      <td>0.0</td>\n",
       "      <td>0.0</td>\n",
       "      <td>0.0</td>\n",
       "      <td>0.0</td>\n",
       "      <td>0.0</td>\n",
       "      <td>0.0</td>\n",
       "      <td>0.0</td>\n",
       "      <td>0.0</td>\n",
       "      <td>0.0</td>\n",
       "    </tr>\n",
       "    <tr>\n",
       "      <th>8805</th>\n",
       "      <td>Movie</td>\n",
       "      <td>United States</td>\n",
       "      <td>Zoom</td>\n",
       "      <td>PG</td>\n",
       "      <td>Dragged from civilian life, a former superhero...</td>\n",
       "      <td>0</td>\n",
       "      <td>0</td>\n",
       "      <td>0</td>\n",
       "      <td>0</td>\n",
       "      <td>1</td>\n",
       "      <td>...</td>\n",
       "      <td>0.0</td>\n",
       "      <td>0.0</td>\n",
       "      <td>0.0</td>\n",
       "      <td>0.0</td>\n",
       "      <td>0.0</td>\n",
       "      <td>0.0</td>\n",
       "      <td>0.0</td>\n",
       "      <td>0.0</td>\n",
       "      <td>0.0</td>\n",
       "      <td>0.0</td>\n",
       "    </tr>\n",
       "    <tr>\n",
       "      <th>8806</th>\n",
       "      <td>Movie</td>\n",
       "      <td>India</td>\n",
       "      <td>Zubaan</td>\n",
       "      <td>TV-14</td>\n",
       "      <td>A scrappy but poor boy worms his way into a ty...</td>\n",
       "      <td>0</td>\n",
       "      <td>0</td>\n",
       "      <td>0</td>\n",
       "      <td>0</td>\n",
       "      <td>0</td>\n",
       "      <td>...</td>\n",
       "      <td>0.0</td>\n",
       "      <td>1.0</td>\n",
       "      <td>0.0</td>\n",
       "      <td>0.0</td>\n",
       "      <td>0.0</td>\n",
       "      <td>0.0</td>\n",
       "      <td>0.0</td>\n",
       "      <td>0.0</td>\n",
       "      <td>0.0</td>\n",
       "      <td>0.0</td>\n",
       "    </tr>\n",
       "  </tbody>\n",
       "</table>\n",
       "<p>8807 rows × 65 columns</p>\n",
       "</div>"
      ],
      "text/plain": [
       "         type        country                  title rating  \\\n",
       "0       Movie  United States   Dick Johnson Is Dead  PG-13   \n",
       "1     TV Show   South Africa          Blood & Water  TV-MA   \n",
       "2     TV Show            NaN              Ganglands  TV-MA   \n",
       "3     TV Show            NaN  Jailbirds New Orleans  TV-MA   \n",
       "4     TV Show          India           Kota Factory  TV-MA   \n",
       "...       ...            ...                    ...    ...   \n",
       "8802    Movie  United States                 Zodiac      R   \n",
       "8803  TV Show            NaN            Zombie Dumb  TV-Y7   \n",
       "8804    Movie  United States             Zombieland      R   \n",
       "8805    Movie  United States                   Zoom     PG   \n",
       "8806    Movie          India                 Zubaan  TV-14   \n",
       "\n",
       "                                            description  Action & Adventure  \\\n",
       "0     As her father nears the end of his life, filmm...                   0   \n",
       "1     After crossing paths at a party, a Cape Town t...                   0   \n",
       "2     To protect his family from a powerful drug lor...                   0   \n",
       "3     Feuds, flirtations and toilet talk go down amo...                   0   \n",
       "4     In a city of coaching centers known to train I...                   0   \n",
       "...                                                 ...                 ...   \n",
       "8802  A political cartoonist, a crime reporter and a...                   0   \n",
       "8803  While living alone in a spooky town, a young g...                   0   \n",
       "8804  Looking to survive in a world taken over by zo...                   0   \n",
       "8805  Dragged from civilian life, a former superhero...                   0   \n",
       "8806  A scrappy but poor boy worms his way into a ty...                   0   \n",
       "\n",
       "      Anime Features  Anime Series  British TV Shows  \\\n",
       "0                  0             0                 0   \n",
       "1                  0             0                 0   \n",
       "2                  0             0                 0   \n",
       "3                  0             0                 0   \n",
       "4                  0             0                 0   \n",
       "...              ...           ...               ...   \n",
       "8802               0             0                 0   \n",
       "8803               0             0                 0   \n",
       "8804               0             0                 0   \n",
       "8805               0             0                 0   \n",
       "8806               0             0                 0   \n",
       "\n",
       "      Children & Family Movies  ...  (R,)  (TV-14,)  (TV-G,)  (TV-MA,)  \\\n",
       "0                            0  ...   0.0       0.0      0.0       0.0   \n",
       "1                            0  ...   0.0       0.0      0.0       1.0   \n",
       "2                            0  ...   0.0       0.0      0.0       1.0   \n",
       "3                            0  ...   0.0       0.0      0.0       1.0   \n",
       "4                            0  ...   0.0       0.0      0.0       1.0   \n",
       "...                        ...  ...   ...       ...      ...       ...   \n",
       "8802                         0  ...   1.0       0.0      0.0       0.0   \n",
       "8803                         0  ...   0.0       0.0      0.0       0.0   \n",
       "8804                         0  ...   1.0       0.0      0.0       0.0   \n",
       "8805                         1  ...   0.0       0.0      0.0       0.0   \n",
       "8806                         0  ...   0.0       1.0      0.0       0.0   \n",
       "\n",
       "      (TV-PG,)  (TV-Y,)  (TV-Y7,)  (TV-Y7-FV,)  (UR,)  (nan,)  \n",
       "0          0.0      0.0       0.0          0.0    0.0     0.0  \n",
       "1          0.0      0.0       0.0          0.0    0.0     0.0  \n",
       "2          0.0      0.0       0.0          0.0    0.0     0.0  \n",
       "3          0.0      0.0       0.0          0.0    0.0     0.0  \n",
       "4          0.0      0.0       0.0          0.0    0.0     0.0  \n",
       "...        ...      ...       ...          ...    ...     ...  \n",
       "8802       0.0      0.0       0.0          0.0    0.0     0.0  \n",
       "8803       0.0      0.0       1.0          0.0    0.0     0.0  \n",
       "8804       0.0      0.0       0.0          0.0    0.0     0.0  \n",
       "8805       0.0      0.0       0.0          0.0    0.0     0.0  \n",
       "8806       0.0      0.0       0.0          0.0    0.0     0.0  \n",
       "\n",
       "[8807 rows x 65 columns]"
      ]
     },
     "execution_count": 112,
     "metadata": {},
     "output_type": "execute_result"
    }
   ],
   "source": [
    "mlb_df"
   ]
  },
  {
   "cell_type": "code",
   "execution_count": 125,
   "id": "b8c93d19",
   "metadata": {},
   "outputs": [],
   "source": [
    "from sklearn.preprocessing import LabelEncoder\n",
    "le = LabelEncoder()\n",
    "\n",
    "# Count encode director, cast, and country columns\n",
    "count_encoded = le.fit_transform(df_reduced[['country']])\n",
    "netflix_encoded_df = mlb_df.join(pd.DataFrame(count_encoded, columns=['country'], index=mlb_df.index))"
   ]
  },
  {
   "cell_type": "code",
   "execution_count": 127,
   "id": "8f875453",
   "metadata": {},
   "outputs": [],
   "source": [
    "ohe = OneHotEncoder(handle_unknown='ignore', sparse=False)\n",
    "ohe_df = pd.DataFrame(ohe.fit_transform(df_reduced[['type']]), columns = ohe.categories_, index= df_reduced.index)\n",
    "netflix_encoded_df = netflix_encoded_df.join(ohe_df)"
   ]
  },
  {
   "cell_type": "code",
   "execution_count": 129,
   "id": "7c2bbbb6",
   "metadata": {},
   "outputs": [
    {
     "data": {
      "text/html": [
       "<div>\n",
       "<style scoped>\n",
       "    .dataframe tbody tr th:only-of-type {\n",
       "        vertical-align: middle;\n",
       "    }\n",
       "\n",
       "    .dataframe tbody tr th {\n",
       "        vertical-align: top;\n",
       "    }\n",
       "\n",
       "    .dataframe thead th {\n",
       "        text-align: right;\n",
       "    }\n",
       "</style>\n",
       "<table border=\"1\" class=\"dataframe\">\n",
       "  <thead>\n",
       "    <tr style=\"text-align: right;\">\n",
       "      <th></th>\n",
       "      <th>Action &amp; Adventure</th>\n",
       "      <th>Anime Features</th>\n",
       "      <th>Anime Series</th>\n",
       "      <th>British TV Shows</th>\n",
       "      <th>Children &amp; Family Movies</th>\n",
       "      <th>Classic &amp; Cult TV</th>\n",
       "      <th>Classic Movies</th>\n",
       "      <th>Comedies</th>\n",
       "      <th>Crime TV Shows</th>\n",
       "      <th>Cult Movies</th>\n",
       "      <th>...</th>\n",
       "      <th>(TV-G,)</th>\n",
       "      <th>(TV-MA,)</th>\n",
       "      <th>(TV-PG,)</th>\n",
       "      <th>(TV-Y,)</th>\n",
       "      <th>(TV-Y7,)</th>\n",
       "      <th>(TV-Y7-FV,)</th>\n",
       "      <th>(UR,)</th>\n",
       "      <th>(nan,)</th>\n",
       "      <th>(Movie,)</th>\n",
       "      <th>(TV Show,)</th>\n",
       "    </tr>\n",
       "  </thead>\n",
       "  <tbody>\n",
       "    <tr>\n",
       "      <th>0</th>\n",
       "      <td>0</td>\n",
       "      <td>0</td>\n",
       "      <td>0</td>\n",
       "      <td>0</td>\n",
       "      <td>0</td>\n",
       "      <td>0</td>\n",
       "      <td>0</td>\n",
       "      <td>0</td>\n",
       "      <td>0</td>\n",
       "      <td>0</td>\n",
       "      <td>...</td>\n",
       "      <td>0.0</td>\n",
       "      <td>0.0</td>\n",
       "      <td>0.0</td>\n",
       "      <td>0.0</td>\n",
       "      <td>0.0</td>\n",
       "      <td>0.0</td>\n",
       "      <td>0.0</td>\n",
       "      <td>0.0</td>\n",
       "      <td>1.0</td>\n",
       "      <td>0.0</td>\n",
       "    </tr>\n",
       "    <tr>\n",
       "      <th>1</th>\n",
       "      <td>0</td>\n",
       "      <td>0</td>\n",
       "      <td>0</td>\n",
       "      <td>0</td>\n",
       "      <td>0</td>\n",
       "      <td>0</td>\n",
       "      <td>0</td>\n",
       "      <td>0</td>\n",
       "      <td>0</td>\n",
       "      <td>0</td>\n",
       "      <td>...</td>\n",
       "      <td>0.0</td>\n",
       "      <td>1.0</td>\n",
       "      <td>0.0</td>\n",
       "      <td>0.0</td>\n",
       "      <td>0.0</td>\n",
       "      <td>0.0</td>\n",
       "      <td>0.0</td>\n",
       "      <td>0.0</td>\n",
       "      <td>0.0</td>\n",
       "      <td>1.0</td>\n",
       "    </tr>\n",
       "    <tr>\n",
       "      <th>2</th>\n",
       "      <td>0</td>\n",
       "      <td>0</td>\n",
       "      <td>0</td>\n",
       "      <td>0</td>\n",
       "      <td>0</td>\n",
       "      <td>0</td>\n",
       "      <td>0</td>\n",
       "      <td>0</td>\n",
       "      <td>1</td>\n",
       "      <td>0</td>\n",
       "      <td>...</td>\n",
       "      <td>0.0</td>\n",
       "      <td>1.0</td>\n",
       "      <td>0.0</td>\n",
       "      <td>0.0</td>\n",
       "      <td>0.0</td>\n",
       "      <td>0.0</td>\n",
       "      <td>0.0</td>\n",
       "      <td>0.0</td>\n",
       "      <td>0.0</td>\n",
       "      <td>1.0</td>\n",
       "    </tr>\n",
       "    <tr>\n",
       "      <th>3</th>\n",
       "      <td>0</td>\n",
       "      <td>0</td>\n",
       "      <td>0</td>\n",
       "      <td>0</td>\n",
       "      <td>0</td>\n",
       "      <td>0</td>\n",
       "      <td>0</td>\n",
       "      <td>0</td>\n",
       "      <td>0</td>\n",
       "      <td>0</td>\n",
       "      <td>...</td>\n",
       "      <td>0.0</td>\n",
       "      <td>1.0</td>\n",
       "      <td>0.0</td>\n",
       "      <td>0.0</td>\n",
       "      <td>0.0</td>\n",
       "      <td>0.0</td>\n",
       "      <td>0.0</td>\n",
       "      <td>0.0</td>\n",
       "      <td>0.0</td>\n",
       "      <td>1.0</td>\n",
       "    </tr>\n",
       "    <tr>\n",
       "      <th>4</th>\n",
       "      <td>0</td>\n",
       "      <td>0</td>\n",
       "      <td>0</td>\n",
       "      <td>0</td>\n",
       "      <td>0</td>\n",
       "      <td>0</td>\n",
       "      <td>0</td>\n",
       "      <td>0</td>\n",
       "      <td>0</td>\n",
       "      <td>0</td>\n",
       "      <td>...</td>\n",
       "      <td>0.0</td>\n",
       "      <td>1.0</td>\n",
       "      <td>0.0</td>\n",
       "      <td>0.0</td>\n",
       "      <td>0.0</td>\n",
       "      <td>0.0</td>\n",
       "      <td>0.0</td>\n",
       "      <td>0.0</td>\n",
       "      <td>0.0</td>\n",
       "      <td>1.0</td>\n",
       "    </tr>\n",
       "  </tbody>\n",
       "</table>\n",
       "<p>5 rows × 62 columns</p>\n",
       "</div>"
      ],
      "text/plain": [
       "   Action & Adventure  Anime Features  Anime Series  British TV Shows  \\\n",
       "0                   0               0             0                 0   \n",
       "1                   0               0             0                 0   \n",
       "2                   0               0             0                 0   \n",
       "3                   0               0             0                 0   \n",
       "4                   0               0             0                 0   \n",
       "\n",
       "   Children & Family Movies  Classic & Cult TV  Classic Movies  Comedies  \\\n",
       "0                         0                  0               0         0   \n",
       "1                         0                  0               0         0   \n",
       "2                         0                  0               0         0   \n",
       "3                         0                  0               0         0   \n",
       "4                         0                  0               0         0   \n",
       "\n",
       "   Crime TV Shows  Cult Movies  ...  (TV-G,)  (TV-MA,)  (TV-PG,)  (TV-Y,)  \\\n",
       "0               0            0  ...      0.0       0.0       0.0      0.0   \n",
       "1               0            0  ...      0.0       1.0       0.0      0.0   \n",
       "2               1            0  ...      0.0       1.0       0.0      0.0   \n",
       "3               0            0  ...      0.0       1.0       0.0      0.0   \n",
       "4               0            0  ...      0.0       1.0       0.0      0.0   \n",
       "\n",
       "   (TV-Y7,)  (TV-Y7-FV,)  (UR,)  (nan,)  (Movie,)  (TV Show,)  \n",
       "0       0.0          0.0    0.0     0.0       1.0         0.0  \n",
       "1       0.0          0.0    0.0     0.0       0.0         1.0  \n",
       "2       0.0          0.0    0.0     0.0       0.0         1.0  \n",
       "3       0.0          0.0    0.0     0.0       0.0         1.0  \n",
       "4       0.0          0.0    0.0     0.0       0.0         1.0  \n",
       "\n",
       "[5 rows x 62 columns]"
      ]
     },
     "execution_count": 129,
     "metadata": {},
     "output_type": "execute_result"
    }
   ],
   "source": [
    "netflix_encoded_df = netflix_encoded_df.drop(['type','title', 'country','rating','description'], axis=1)\n",
    "netflix_encoded_df.head()"
   ]
  },
  {
   "cell_type": "code",
   "execution_count": 130,
   "id": "92369149",
   "metadata": {},
   "outputs": [],
   "source": [
    "# Create K-Means Model\n",
    "modelkmeans = KMeans(n_clusters=500, init='k-means++', n_init=10).fit(netflix_encoded_df)\n",
    "\n",
    "# Form cluster predictions using K-Means Model\n",
    "predictions = modelkmeans.predict(netflix_encoded_df)\n",
    "\n",
    "# Convert cluster predictions to data frame\n",
    "predictions_df = pd.DataFrame(predictions, columns=['cluster'])"
   ]
  },
  {
   "cell_type": "code",
   "execution_count": 134,
   "id": "0f1e05b2",
   "metadata": {
    "scrolled": true
   },
   "outputs": [],
   "source": [
    "df = df.join(predictions_df)"
   ]
  },
  {
   "cell_type": "code",
   "execution_count": 138,
   "id": "95611e51",
   "metadata": {},
   "outputs": [
    {
     "data": {
      "text/html": [
       "<div>\n",
       "<style scoped>\n",
       "    .dataframe tbody tr th:only-of-type {\n",
       "        vertical-align: middle;\n",
       "    }\n",
       "\n",
       "    .dataframe tbody tr th {\n",
       "        vertical-align: top;\n",
       "    }\n",
       "\n",
       "    .dataframe thead th {\n",
       "        text-align: right;\n",
       "    }\n",
       "</style>\n",
       "<table border=\"1\" class=\"dataframe\">\n",
       "  <thead>\n",
       "    <tr style=\"text-align: right;\">\n",
       "      <th></th>\n",
       "      <th>show_id</th>\n",
       "      <th>type</th>\n",
       "      <th>title</th>\n",
       "      <th>director</th>\n",
       "      <th>cast</th>\n",
       "      <th>country</th>\n",
       "      <th>date_added</th>\n",
       "      <th>release_year</th>\n",
       "      <th>rating</th>\n",
       "      <th>duration</th>\n",
       "      <th>listed_in</th>\n",
       "      <th>description</th>\n",
       "      <th>cluster</th>\n",
       "    </tr>\n",
       "  </thead>\n",
       "  <tbody>\n",
       "    <tr>\n",
       "      <th>678</th>\n",
       "      <td>s679</td>\n",
       "      <td>TV Show</td>\n",
       "      <td>The Assassination of Gianni Versace</td>\n",
       "      <td>NaN</td>\n",
       "      <td>Edgar Ramírez, Darren Criss, Ricky Martin, Pen...</td>\n",
       "      <td>United States</td>\n",
       "      <td>June 19, 2021</td>\n",
       "      <td>2018</td>\n",
       "      <td>TV-MA</td>\n",
       "      <td>1 Season</td>\n",
       "      <td>Crime TV Shows, TV Dramas, TV Thrillers</td>\n",
       "      <td>Defining moments in Andrew Cunanan's life, sta...</td>\n",
       "      <td>422</td>\n",
       "    </tr>\n",
       "    <tr>\n",
       "      <th>1477</th>\n",
       "      <td>s1478</td>\n",
       "      <td>TV Show</td>\n",
       "      <td>Dare Me</td>\n",
       "      <td>NaN</td>\n",
       "      <td>Willa Fitzgerald, Herizen Guardiola, Marlo Kel...</td>\n",
       "      <td>United States</td>\n",
       "      <td>December 30, 2020</td>\n",
       "      <td>2019</td>\n",
       "      <td>TV-MA</td>\n",
       "      <td>1 Season</td>\n",
       "      <td>Crime TV Shows, TV Dramas, TV Thrillers</td>\n",
       "      <td>Relationships topple and loyalties flip when a...</td>\n",
       "      <td>422</td>\n",
       "    </tr>\n",
       "    <tr>\n",
       "      <th>2767</th>\n",
       "      <td>s2768</td>\n",
       "      <td>TV Show</td>\n",
       "      <td>Ozark</td>\n",
       "      <td>NaN</td>\n",
       "      <td>Jason Bateman, Sofia Hublitz, Laura Linney, Sk...</td>\n",
       "      <td>United States</td>\n",
       "      <td>March 27, 2020</td>\n",
       "      <td>2020</td>\n",
       "      <td>TV-MA</td>\n",
       "      <td>3 Seasons</td>\n",
       "      <td>Crime TV Shows, TV Dramas, TV Thrillers</td>\n",
       "      <td>A financial adviser drags his family from Chic...</td>\n",
       "      <td>422</td>\n",
       "    </tr>\n",
       "    <tr>\n",
       "      <th>3762</th>\n",
       "      <td>s3763</td>\n",
       "      <td>TV Show</td>\n",
       "      <td>Designated Survivor</td>\n",
       "      <td>NaN</td>\n",
       "      <td>Kiefer Sutherland, Natascha McElhone, Maggie Q...</td>\n",
       "      <td>United States</td>\n",
       "      <td>June 7, 2019</td>\n",
       "      <td>2019</td>\n",
       "      <td>TV-MA</td>\n",
       "      <td>3 Seasons</td>\n",
       "      <td>Crime TV Shows, TV Dramas, TV Thrillers</td>\n",
       "      <td>America's fate rests in the hands of a low-lev...</td>\n",
       "      <td>422</td>\n",
       "    </tr>\n",
       "    <tr>\n",
       "      <th>5940</th>\n",
       "      <td>s5941</td>\n",
       "      <td>TV Show</td>\n",
       "      <td>Breaking Bad</td>\n",
       "      <td>NaN</td>\n",
       "      <td>Bryan Cranston, Aaron Paul, Anna Gunn, Dean No...</td>\n",
       "      <td>United States</td>\n",
       "      <td>August 2, 2013</td>\n",
       "      <td>2013</td>\n",
       "      <td>TV-MA</td>\n",
       "      <td>5 Seasons</td>\n",
       "      <td>Crime TV Shows, TV Dramas, TV Thrillers</td>\n",
       "      <td>A high school chemistry teacher dying of cance...</td>\n",
       "      <td>422</td>\n",
       "    </tr>\n",
       "  </tbody>\n",
       "</table>\n",
       "</div>"
      ],
      "text/plain": [
       "     show_id     type                                title director  \\\n",
       "678     s679  TV Show  The Assassination of Gianni Versace      NaN   \n",
       "1477   s1478  TV Show                              Dare Me      NaN   \n",
       "2767   s2768  TV Show                                Ozark      NaN   \n",
       "3762   s3763  TV Show                  Designated Survivor      NaN   \n",
       "5940   s5941  TV Show                         Breaking Bad      NaN   \n",
       "\n",
       "                                                   cast        country  \\\n",
       "678   Edgar Ramírez, Darren Criss, Ricky Martin, Pen...  United States   \n",
       "1477  Willa Fitzgerald, Herizen Guardiola, Marlo Kel...  United States   \n",
       "2767  Jason Bateman, Sofia Hublitz, Laura Linney, Sk...  United States   \n",
       "3762  Kiefer Sutherland, Natascha McElhone, Maggie Q...  United States   \n",
       "5940  Bryan Cranston, Aaron Paul, Anna Gunn, Dean No...  United States   \n",
       "\n",
       "             date_added  release_year rating   duration  \\\n",
       "678       June 19, 2021          2018  TV-MA   1 Season   \n",
       "1477  December 30, 2020          2019  TV-MA   1 Season   \n",
       "2767     March 27, 2020          2020  TV-MA  3 Seasons   \n",
       "3762       June 7, 2019          2019  TV-MA  3 Seasons   \n",
       "5940     August 2, 2013          2013  TV-MA  5 Seasons   \n",
       "\n",
       "                                    listed_in  \\\n",
       "678   Crime TV Shows, TV Dramas, TV Thrillers   \n",
       "1477  Crime TV Shows, TV Dramas, TV Thrillers   \n",
       "2767  Crime TV Shows, TV Dramas, TV Thrillers   \n",
       "3762  Crime TV Shows, TV Dramas, TV Thrillers   \n",
       "5940  Crime TV Shows, TV Dramas, TV Thrillers   \n",
       "\n",
       "                                            description  cluster  \n",
       "678   Defining moments in Andrew Cunanan's life, sta...      422  \n",
       "1477  Relationships topple and loyalties flip when a...      422  \n",
       "2767  A financial adviser drags his family from Chic...      422  \n",
       "3762  America's fate rests in the hands of a low-lev...      422  \n",
       "5940  A high school chemistry teacher dying of cance...      422  "
      ]
     },
     "execution_count": 138,
     "metadata": {},
     "output_type": "execute_result"
    }
   ],
   "source": [
    "cluster_num = df[df['title'] == 'Breaking Bad'].cluster.item()\n",
    "df[df['cluster']==cluster_num]"
   ]
  },
  {
   "cell_type": "code",
   "execution_count": 151,
   "id": "050516b2",
   "metadata": {},
   "outputs": [],
   "source": [
    "df_text = df['listed_in'] + ' '+ df['description']"
   ]
  },
  {
   "cell_type": "code",
   "execution_count": 152,
   "id": "5ee545e6",
   "metadata": {},
   "outputs": [
    {
     "data": {
      "text/plain": [
       "0       Documentaries As her father nears the end of h...\n",
       "1       International TV Shows, TV Dramas, TV Mysterie...\n",
       "2       Crime TV Shows, International TV Shows, TV Act...\n",
       "3       Docuseries, Reality TV Feuds, flirtations and ...\n",
       "4       International TV Shows, Romantic TV Shows, TV ...\n",
       "                              ...                        \n",
       "8802    Cult Movies, Dramas, Thrillers A political car...\n",
       "8803    Kids' TV, Korean TV Shows, TV Comedies While l...\n",
       "8804    Comedies, Horror Movies Looking to survive in ...\n",
       "8805    Children & Family Movies, Comedies Dragged fro...\n",
       "8806    Dramas, International Movies, Music & Musicals...\n",
       "Length: 8807, dtype: object"
      ]
     },
     "execution_count": 152,
     "metadata": {},
     "output_type": "execute_result"
    }
   ],
   "source": [
    "df_text"
   ]
  },
  {
   "cell_type": "code",
   "execution_count": 17,
   "id": "add31b8c",
   "metadata": {},
   "outputs": [],
   "source": [
    "#fuction for cleaning text\n",
    "def clean_text(text):\n",
    "    le=WordNetLemmatizer()\n",
    "    word_tokens=word_tokenize(text)\n",
    "    tokens=[le.lemmatize(w) for w in word_tokens if w not in STOPWORDS and len(w)>3]\n",
    "    cleaned_text=\" \".join(tokens)\n",
    "    return cleaned_text\n",
    "     "
   ]
  },
  {
   "cell_type": "code",
   "execution_count": 154,
   "id": "0bc5b23c",
   "metadata": {},
   "outputs": [],
   "source": [
    "df_text_cleaned = df_text.apply(clean_text)"
   ]
  },
  {
   "cell_type": "code",
   "execution_count": 157,
   "id": "1793af94",
   "metadata": {},
   "outputs": [
    {
     "data": {
      "text/plain": [
       "'Documentaries father nears life filmmaker Kirsten Johnson stage death inventive comical way help face inevitable'"
      ]
     },
     "execution_count": 157,
     "metadata": {},
     "output_type": "execute_result"
    }
   ],
   "source": [
    "df_text_cleaned[0]"
   ]
  },
  {
   "cell_type": "markdown",
   "id": "8fe27524",
   "metadata": {},
   "source": [
    "Apply TfidfVectorizer"
   ]
  },
  {
   "cell_type": "code",
   "execution_count": 169,
   "id": "11249e99",
   "metadata": {},
   "outputs": [],
   "source": [
    "vect =TfidfVectorizer(stop_words=STOPWORDS,max_features=1000)\n",
    "vect_text=vect.fit_transform(df_text_cleaned)\n"
   ]
  },
  {
   "cell_type": "code",
   "execution_count": 172,
   "id": "cbf6e478",
   "metadata": {},
   "outputs": [
    {
     "name": "stdout",
     "output_type": "stream",
     "text": [
      "TfidfVectorizer(max_features=1000,\n",
      "                stop_words={'a', 'about', 'above', 'after', 'again', 'against',\n",
      "                            'ain', 'all', 'am', 'an', 'and', 'any', 'are',\n",
      "                            'aren', \"aren't\", 'as', 'at', 'be', 'because',\n",
      "                            'been', 'before', 'being', 'below', 'between',\n",
      "                            'both', 'but', 'by', 'can', 'couldn', \"couldn't\", ...})\n"
     ]
    }
   ],
   "source": [
    "print(vect)"
   ]
  },
  {
   "cell_type": "code",
   "execution_count": 182,
   "id": "750381f1",
   "metadata": {},
   "outputs": [
    {
     "name": "stdout",
     "output_type": "stream",
     "text": [
      "movies shark\n",
      "6.947921462473366\n",
      "1.6709165581009442\n"
     ]
    }
   ],
   "source": [
    "idf=vect.idf_\n",
    "dd=dict(zip(vect.get_feature_names(), idf))\n",
    "l=sorted(dd, key=(dd).get) # sort by weight value\n",
    "print(l[0],l[-1])\n",
    "# print(dd['international'])\n",
    "# print(dd['bear']) \n",
    "print(dd['shark'])\n",
    "print(dd['movies'])"
   ]
  },
  {
   "cell_type": "markdown",
   "id": "a22d3ec7",
   "metadata": {},
   "source": [
    "## Topic modeling with description"
   ]
  },
  {
   "cell_type": "markdown",
   "id": "ce975944",
   "metadata": {},
   "source": [
    "# Clustering"
   ]
  },
  {
   "cell_type": "code",
   "execution_count": 196,
   "id": "b0c214b2",
   "metadata": {},
   "outputs": [],
   "source": [
    "df['director'] = df['director'].fillna('unknown')\n",
    "df['cast'] = df['cast'].fillna('unknown')\n",
    "df['country'] = df['country'].fillna('United States')"
   ]
  },
  {
   "cell_type": "code",
   "execution_count": 197,
   "id": "719a45f1",
   "metadata": {},
   "outputs": [],
   "source": [
    "df_clustering = df['director']+\" \" + df['cast'] +\" \"+ df['country'] +\" \"+ df['listed_in'] +\" \"+ df['description']"
   ]
  },
  {
   "cell_type": "code",
   "execution_count": 198,
   "id": "07ba0bfa",
   "metadata": {},
   "outputs": [
    {
     "data": {
      "text/plain": [
       "0       Kirsten Johnson unknown United States Document...\n",
       "1       unknown Ama Qamata, Khosi Ngema, Gail Mabalane...\n",
       "2       Julien Leclercq Sami Bouajila, Tracy Gotoas, S...\n",
       "3       unknown unknown United States Docuseries, Real...\n",
       "4       unknown Mayur More, Jitendra Kumar, Ranjan Raj...\n",
       "                              ...                        \n",
       "8802    David Fincher Mark Ruffalo, Jake Gyllenhaal, R...\n",
       "8803    unknown unknown United States Kids' TV, Korean...\n",
       "8804    Ruben Fleischer Jesse Eisenberg, Woody Harrels...\n",
       "8805    Peter Hewitt Tim Allen, Courteney Cox, Chevy C...\n",
       "8806    Mozez Singh Vicky Kaushal, Sarah-Jane Dias, Ra...\n",
       "Length: 8807, dtype: object"
      ]
     },
     "execution_count": 198,
     "metadata": {},
     "output_type": "execute_result"
    }
   ],
   "source": [
    "df_clustering"
   ]
  },
  {
   "cell_type": "code",
   "execution_count": 208,
   "id": "10361fb0",
   "metadata": {},
   "outputs": [
    {
     "name": "stdout",
     "output_type": "stream",
     "text": [
      "this is a string'''''. Esta es una oracion que esta en espanol \n"
     ]
    }
   ],
   "source": [
    "import unicodedata\n",
    "my_var = \"this is a string'''''.\"\n",
    "my_var2 = \" Esta es una oración que está en español \"\n",
    "my_var3 = unicodedata.normalize('NFKD', my_var2).encode('ascii', 'ignore').decode('ascii')\n",
    "output = my_var + my_var3\n",
    "print(output)"
   ]
  },
  {
   "cell_type": "code",
   "execution_count": 209,
   "id": "31e5ce15",
   "metadata": {},
   "outputs": [
    {
     "data": {
      "text/plain": [
       "'this is a string'"
      ]
     },
     "execution_count": 209,
     "metadata": {},
     "output_type": "execute_result"
    }
   ],
   "source": [
    "import string\n",
    "translator = str.maketrans('', '', string.punctuation)\n",
    "my_var.translate(translator)"
   ]
  },
  {
   "cell_type": "code",
   "execution_count": 14,
   "id": "d1fc1080",
   "metadata": {},
   "outputs": [],
   "source": [
    "import string\n",
    "translator = str.maketrans('', '', string.punctuation)\n",
    "def clean_text(text):\n",
    "    # remove non- ASCII character\n",
    "    text = unicodedata.normalize('NFKD', text).encode('ascii', 'ignore').decode('ascii')\n",
    "    # lower_case, remove puntuation\n",
    "    text = text.lower().translate(translator)\n",
    "    # split word into token\n",
    "    le=WordNetLemmatizer()\n",
    "    word_tokens=word_tokenize(text)\n",
    "    # remove stop word\n",
    "    tokens=[le.lemmatize(w) for w in word_tokens if w not in STOPWORDS and len(w)>3]\n",
    "    cleaned_text=\" \".join(tokens)\n",
    "    return cleaned_text"
   ]
  },
  {
   "cell_type": "code",
   "execution_count": 211,
   "id": "a72a8acd",
   "metadata": {},
   "outputs": [],
   "source": [
    "df_cluster_cleaned = df_clustering.apply(clean_text)"
   ]
  },
  {
   "cell_type": "code",
   "execution_count": 213,
   "id": "d195d546",
   "metadata": {},
   "outputs": [
    {
     "data": {
      "text/plain": [
       "0       kirsten johnson unknown united state documenta...\n",
       "1       unknown qamata khosi ngema gail mabalane thaba...\n",
       "2       julien leclercq sami bouajila tracy gotoas sam...\n",
       "3       unknown unknown united state docuseries realit...\n",
       "4       unknown mayur jitendra kumar ranjan alam khan ...\n",
       "                              ...                        \n",
       "8802    david fincher mark ruffalo jake gyllenhaal rob...\n",
       "8803    unknown unknown united state kid korean show c...\n",
       "8804    ruben fleischer jesse eisenberg woody harrelso...\n",
       "8805    peter hewitt allen courteney chevy chase kate ...\n",
       "8806    mozez singh vicky kaushal sarahjane dia raagha...\n",
       "Length: 8807, dtype: object"
      ]
     },
     "execution_count": 213,
     "metadata": {},
     "output_type": "execute_result"
    }
   ],
   "source": [
    "df_cluster_cleaned"
   ]
  },
  {
   "cell_type": "code",
   "execution_count": 215,
   "id": "5dd14ca7",
   "metadata": {},
   "outputs": [],
   "source": [
    "vect =TfidfVectorizer(stop_words=STOPWORDS,max_features=20000)\n",
    "vect_text=vect.fit_transform(df_cluster_cleaned)\n"
   ]
  },
  {
   "cell_type": "code",
   "execution_count": 217,
   "id": "bdc1584a",
   "metadata": {},
   "outputs": [
    {
     "data": {
      "text/plain": [
       "(8807, 20000)"
      ]
     },
     "execution_count": 217,
     "metadata": {},
     "output_type": "execute_result"
    }
   ],
   "source": [
    "vect_text.shape"
   ]
  },
  {
   "cell_type": "markdown",
   "id": "dce0fe99",
   "metadata": {},
   "source": [
    "### Dimension reduction through PCA"
   ]
  },
  {
   "cell_type": "code",
   "execution_count": 221,
   "id": "6690d42b",
   "metadata": {},
   "outputs": [],
   "source": [
    "pca =PCA()\n",
    "vect_arr= vect_text.toarray()"
   ]
  },
  {
   "cell_type": "code",
   "execution_count": 223,
   "id": "832e137f",
   "metadata": {},
   "outputs": [
    {
     "data": {
      "text/plain": [
       "array([0., 0., 0., ..., 0., 0., 0.])"
      ]
     },
     "execution_count": 223,
     "metadata": {},
     "output_type": "execute_result"
    }
   ],
   "source": [
    "vect_arr[0]"
   ]
  },
  {
   "cell_type": "code",
   "execution_count": 224,
   "id": "6749a67c",
   "metadata": {},
   "outputs": [
    {
     "data": {
      "text/plain": [
       "PCA()"
      ]
     },
     "execution_count": 224,
     "metadata": {},
     "output_type": "execute_result"
    }
   ],
   "source": [
    "pca.fit(vect_arr)"
   ]
  },
  {
   "cell_type": "code",
   "execution_count": 225,
   "id": "9d2906a8",
   "metadata": {},
   "outputs": [
    {
     "data": {
      "text/plain": [
       "Text(0, 0.5, 'cumulative explained variance')"
      ]
     },
     "execution_count": 225,
     "metadata": {},
     "output_type": "execute_result"
    },
    {
     "data": {
      "image/png": "[encoded data removed]",
      "text/plain": [
       "<Figure size 720x360 with 1 Axes>"
      ]
     },
     "metadata": {
      "needs_background": "light"
     },
     "output_type": "display_data"
    }
   ],
   "source": [
    "import matplotlib.pyplot as plt\n",
    "plt.figure(figsize=(10,5))\n",
    "plt.plot(np.cumsum(pca.explained_variance_ratio_))\n",
    "plt.title('PCA - Cumulative explained variance vs number of components')\n",
    "plt.xlabel('number of components')\n",
    "plt.ylabel('cumulative explained variance')"
   ]
  },
  {
   "cell_type": "code",
   "execution_count": 228,
   "id": "92fb689b",
   "metadata": {},
   "outputs": [],
   "source": [
    "pca = PCA(n_components=4000)\n",
    "vect_reduced = pca.fit_transform(vect_arr)"
   ]
  },
  {
   "cell_type": "markdown",
   "id": "7f85c8be",
   "metadata": {},
   "source": [
    "Visualize the elbow curl to choose best K and silhouette score"
   ]
  },
  {
   "cell_type": "code",
   "execution_count": 48,
   "id": "b58fa13d",
   "metadata": {
    "scrolled": true
   },
   "outputs": [
    {
     "ename": "NameError",
     "evalue": "name 'vect_reduced' is not defined",
     "output_type": "error",
     "traceback": [
      "\u001b[0;31m---------------------------------------------------------------------------\u001b[0m",
      "\u001b[0;31mNameError\u001b[0m                                 Traceback (most recent call last)",
      "Input \u001b[0;32mIn [48]\u001b[0m, in \u001b[0;36m<cell line: 3>\u001b[0;34m()\u001b[0m\n\u001b[1;32m      3\u001b[0m \u001b[38;5;28;01mfor\u001b[39;00m n \u001b[38;5;129;01min\u001b[39;00m \u001b[38;5;28mrange\u001b[39m(\u001b[38;5;241m2\u001b[39m,\u001b[38;5;241m20\u001b[39m):\n\u001b[1;32m      4\u001b[0m     kmeans \u001b[38;5;241m=\u001b[39m KMeans(n_clusters\u001b[38;5;241m=\u001b[39mn, init\u001b[38;5;241m=\u001b[39m\u001b[38;5;124m'\u001b[39m\u001b[38;5;124mk-means++\u001b[39m\u001b[38;5;124m'\u001b[39m, n_init\u001b[38;5;241m=\u001b[39m\u001b[38;5;241m10\u001b[39m)\n\u001b[0;32m----> 5\u001b[0m     kmeans\u001b[38;5;241m.\u001b[39mfit(\u001b[43mvect_reduced\u001b[49m)\n\u001b[1;32m      6\u001b[0m     scores\u001b[38;5;241m.\u001b[39mappend(kmeans\u001b[38;5;241m.\u001b[39minertia_)\n\u001b[1;32m      7\u001b[0m     silhouette_scores\u001b[38;5;241m.\u001b[39mappend(silhouette_score(vect_arr, kmeans\u001b[38;5;241m.\u001b[39mlabels_))\n",
      "\u001b[0;31mNameError\u001b[0m: name 'vect_reduced' is not defined"
     ]
    }
   ],
   "source": [
    "scores = []\n",
    "silhouette_scores = []\n",
    "for n in range(2,20):\n",
    "    kmeans = KMeans(n_clusters=n, init='k-means++', n_init=10)\n",
    "    kmeans.fit(vect_reduced)\n",
    "    scores.append(kmeans.inertia_)\n",
    "    silhouette_scores.append(silhouette_score(vect_arr, kmeans.labels_))\n",
    "    \n",
    "plt.figure(figsize=(10,5))\n",
    "plt.plot(range(1,31), scores)\n"
   ]
  },
  {
   "cell_type": "code",
   "execution_count": null,
   "id": "a8adb132",
   "metadata": {},
   "outputs": [],
   "source": [
    "plt.figure(figsize=(10,5))\n",
    "plt.plot(range(1,31), silhouette_scores)\n"
   ]
  },
  {
   "cell_type": "markdown",
   "id": "7f6998c8",
   "metadata": {},
   "source": [
    "### Analyze The Cluster"
   ]
  },
  {
   "cell_type": "code",
   "execution_count": 234,
   "id": "76451444",
   "metadata": {},
   "outputs": [],
   "source": [
    "n=6\n",
    "kmeans = KMeans(n_clusters=n, init='k-means++', n_init=10)\n",
    "kmeans.fit(vect_reduced)\n",
    "df['cluster'] = kmeans.labels_"
   ]
  },
  {
   "cell_type": "code",
   "execution_count": 253,
   "id": "104b6cab",
   "metadata": {},
   "outputs": [],
   "source": [
    "df.to_csv('result_cluster.csv')"
   ]
  },
  {
   "cell_type": "code",
   "execution_count": 10,
   "id": "c13d3a45",
   "metadata": {},
   "outputs": [],
   "source": [
    "import pandas as pd\n",
    "df = pd.read_csv('result_cluster.csv')"
   ]
  },
  {
   "cell_type": "code",
   "execution_count": 10,
   "id": "e3cf66cb",
   "metadata": {},
   "outputs": [
    {
     "data": {
      "text/plain": [
       "0          0\n",
       "1          1\n",
       "2          2\n",
       "3          3\n",
       "4          4\n",
       "        ... \n",
       "8802    8802\n",
       "8803    8803\n",
       "8804    8804\n",
       "8805    8805\n",
       "8806    8806\n",
       "Name: Unnamed: 0, Length: 8807, dtype: int64"
      ]
     },
     "execution_count": 10,
     "metadata": {},
     "output_type": "execute_result"
    }
   ],
   "source": [
    "df.pop(df.columns.values[0])"
   ]
  },
  {
   "cell_type": "code",
   "execution_count": 11,
   "id": "b77e7aff",
   "metadata": {},
   "outputs": [],
   "source": [
    "import matplotlib.pyplot as plt"
   ]
  },
  {
   "cell_type": "code",
   "execution_count": 69,
   "id": "422dda5e",
   "metadata": {},
   "outputs": [
    {
     "data": {
      "text/plain": [
       "<AxesSubplot:xlabel='cluster'>"
      ]
     },
     "execution_count": 69,
     "metadata": {},
     "output_type": "execute_result"
    },
    {
     "data": {
      "image/png": "[encoded data removed]",
      "text/plain": [
       "<Figure size 432x288 with 1 Axes>"
      ]
     },
     "metadata": {
      "needs_background": "light"
     },
     "output_type": "display_data"
    }
   ],
   "source": [
    "df.groupby('cluster').count().reset_index().iloc[:,:2].plot(x='cluster', y='show_id', kind='bar')"
   ]
  },
  {
   "cell_type": "code",
   "execution_count": 12,
   "id": "798baeaa",
   "metadata": {},
   "outputs": [
    {
     "name": "stderr",
     "output_type": "stream",
     "text": [
      "/var/folders/rq/jntjfmqj7ll35dkgj80tqf4c0000gn/T/ipykernel_41299/4142053726.py:2: SettingWithCopyWarning: \n",
      "A value is trying to be set on a copy of a slice from a DataFrame.\n",
      "Try using .loc[row_indexer,col_indexer] = value instead\n",
      "\n",
      "See the caveats in the documentation: https://pandas.pydata.org/pandas-docs/stable/user_guide/indexing.html#returning-a-view-versus-a-copy\n",
      "  df_1['listed_in'] = df_1['listed_in'].str.split(', ').to_list()\n"
     ]
    },
    {
     "data": {
      "text/plain": [
       "<AxesSubplot:xlabel='listed_in'>"
      ]
     },
     "execution_count": 12,
     "metadata": {},
     "output_type": "execute_result"
    },
    {
     "data": {
      "image/png": "[encoded data removed]",
      "text/plain": [
       "<Figure size 432x288 with 1 Axes>"
      ]
     },
     "metadata": {
      "needs_background": "light"
     },
     "output_type": "display_data"
    }
   ],
   "source": [
    "df_1 = df[df['cluster']==1]\n",
    "df_1['listed_in'] = df_1['listed_in'].str.split(', ').to_list()\n",
    "df_1.explode('listed_in').groupby('listed_in').count().reset_index().iloc[:,:2].plot(x='listed_in', y='show_id', kind='bar')"
   ]
  },
  {
   "cell_type": "markdown",
   "id": "a767f196",
   "metadata": {},
   "source": [
    "In the first cluster, it seems to belong to Documentaries"
   ]
  },
  {
   "cell_type": "code",
   "execution_count": 18,
   "id": "cffe5638",
   "metadata": {},
   "outputs": [
    {
     "data": {
      "text/plain": [
       "<AxesSubplot:xlabel='description'>"
      ]
     },
     "execution_count": 18,
     "metadata": {},
     "output_type": "execute_result"
    },
    {
     "data": {
      "image/png": "[encoded data removed]",
      "text/plain": [
       "<Figure size 432x288 with 1 Axes>"
      ]
     },
     "metadata": {
      "needs_background": "light"
     },
     "output_type": "display_data"
    }
   ],
   "source": [
    "pd.DataFrame(df_1['description'].apply(clean_text).str.split(' ').explode()).reset_index() \\\n",
    ".groupby('description').count().reset_index().sort_values(by='index',ascending=False, ignore_index=True).iloc[:20]\\\n",
    ".plot(x='description', y='index', kind='bar')"
   ]
  },
  {
   "cell_type": "markdown",
   "id": "17b48e01",
   "metadata": {},
   "source": [
    "I took the most frequent word from the cleaned discription column. It seems like the documentary is making about the life of someone which their carrer is about music and sport that impacted the world. Some documentary choose interview kind. It also make about history documentary or explores "
   ]
  },
  {
   "cell_type": "code",
   "execution_count": 41,
   "id": "234d89ee",
   "metadata": {},
   "outputs": [],
   "source": [
    "def is_in(x):\n",
    "    print(x)\n",
    "    for m in x['listed_in']:\n",
    "        if m== \"Music & Musicals\":\n",
    "            return True\n",
    "    return False"
   ]
  },
  {
   "cell_type": "code",
   "execution_count": 47,
   "id": "26338c21",
   "metadata": {},
   "outputs": [
    {
     "data": {
      "text/html": [
       "<div>\n",
       "<style scoped>\n",
       "    .dataframe tbody tr th:only-of-type {\n",
       "        vertical-align: middle;\n",
       "    }\n",
       "\n",
       "    .dataframe tbody tr th {\n",
       "        vertical-align: top;\n",
       "    }\n",
       "\n",
       "    .dataframe thead th {\n",
       "        text-align: right;\n",
       "    }\n",
       "</style>\n",
       "<table border=\"1\" class=\"dataframe\">\n",
       "  <thead>\n",
       "    <tr style=\"text-align: right;\">\n",
       "      <th></th>\n",
       "      <th>show_id</th>\n",
       "      <th>type</th>\n",
       "      <th>title</th>\n",
       "      <th>director</th>\n",
       "      <th>cast</th>\n",
       "      <th>country</th>\n",
       "      <th>date_added</th>\n",
       "      <th>release_year</th>\n",
       "      <th>rating</th>\n",
       "      <th>duration</th>\n",
       "      <th>listed_in</th>\n",
       "      <th>description</th>\n",
       "      <th>cluster</th>\n",
       "    </tr>\n",
       "  </thead>\n",
       "  <tbody>\n",
       "    <tr>\n",
       "      <th>96</th>\n",
       "      <td>s97</td>\n",
       "      <td>Movie</td>\n",
       "      <td>If I Leave Here Tomorrow: A Film About Lynyrd ...</td>\n",
       "      <td>Stephen Kijak</td>\n",
       "      <td>Ronnie Van Zandt, Gary Rossington, Allen Colli...</td>\n",
       "      <td>United States</td>\n",
       "      <td>September 7, 2021</td>\n",
       "      <td>2018</td>\n",
       "      <td>TV-MA</td>\n",
       "      <td>97 min</td>\n",
       "      <td>Music &amp; Musicals</td>\n",
       "      <td>Using interviews and archival footage, this do...</td>\n",
       "      <td>1</td>\n",
       "    </tr>\n",
       "    <tr>\n",
       "      <th>170</th>\n",
       "      <td>s171</td>\n",
       "      <td>Movie</td>\n",
       "      <td>Rhyme &amp; Reason</td>\n",
       "      <td>Peter Spirer</td>\n",
       "      <td>Too $hort, B-Real, Kurtis Blow, Da Brat, Grand...</td>\n",
       "      <td>United States</td>\n",
       "      <td>September 1, 2021</td>\n",
       "      <td>1997</td>\n",
       "      <td>R</td>\n",
       "      <td>89 min</td>\n",
       "      <td>Music &amp; Musicals</td>\n",
       "      <td>The world and culture of rap song topics such ...</td>\n",
       "      <td>1</td>\n",
       "    </tr>\n",
       "    <tr>\n",
       "      <th>233</th>\n",
       "      <td>s234</td>\n",
       "      <td>Movie</td>\n",
       "      <td>Count Me In</td>\n",
       "      <td>Mark Lo</td>\n",
       "      <td>unknown</td>\n",
       "      <td>United Kingdom</td>\n",
       "      <td>August 24, 2021</td>\n",
       "      <td>2021</td>\n",
       "      <td>TV-MA</td>\n",
       "      <td>82 min</td>\n",
       "      <td>Music &amp; Musicals</td>\n",
       "      <td>This documentary features some of rock's great...</td>\n",
       "      <td>1</td>\n",
       "    </tr>\n",
       "    <tr>\n",
       "      <th>455</th>\n",
       "      <td>s456</td>\n",
       "      <td>Movie</td>\n",
       "      <td>Emicida: AmarElo - Live in São Paulo</td>\n",
       "      <td>Fred Ouro Preto</td>\n",
       "      <td>Emicida</td>\n",
       "      <td>United States</td>\n",
       "      <td>July 15, 2021</td>\n",
       "      <td>2021</td>\n",
       "      <td>TV-MA</td>\n",
       "      <td>100 min</td>\n",
       "      <td>Music &amp; Musicals</td>\n",
       "      <td>Brazilian rapper Emicida brings his progressiv...</td>\n",
       "      <td>1</td>\n",
       "    </tr>\n",
       "    <tr>\n",
       "      <th>770</th>\n",
       "      <td>s771</td>\n",
       "      <td>Movie</td>\n",
       "      <td>Myriam Fares: The Journey</td>\n",
       "      <td>Myriam Fares</td>\n",
       "      <td>Myriam Fares</td>\n",
       "      <td>United Arab Emirates</td>\n",
       "      <td>June 3, 2021</td>\n",
       "      <td>2021</td>\n",
       "      <td>TV-14</td>\n",
       "      <td>72 min</td>\n",
       "      <td>Music &amp; Musicals</td>\n",
       "      <td>From pregnancy to album preparations, Lebanese...</td>\n",
       "      <td>1</td>\n",
       "    </tr>\n",
       "  </tbody>\n",
       "</table>\n",
       "</div>"
      ],
      "text/plain": [
       "    show_id   type                                              title  \\\n",
       "96      s97  Movie  If I Leave Here Tomorrow: A Film About Lynyrd ...   \n",
       "170    s171  Movie                                     Rhyme & Reason   \n",
       "233    s234  Movie                                        Count Me In   \n",
       "455    s456  Movie               Emicida: AmarElo - Live in São Paulo   \n",
       "770    s771  Movie                          Myriam Fares: The Journey   \n",
       "\n",
       "            director                                               cast  \\\n",
       "96     Stephen Kijak  Ronnie Van Zandt, Gary Rossington, Allen Colli...   \n",
       "170     Peter Spirer  Too $hort, B-Real, Kurtis Blow, Da Brat, Grand...   \n",
       "233          Mark Lo                                            unknown   \n",
       "455  Fred Ouro Preto                                            Emicida   \n",
       "770     Myriam Fares                                       Myriam Fares   \n",
       "\n",
       "                  country         date_added  release_year rating duration  \\\n",
       "96          United States  September 7, 2021          2018  TV-MA   97 min   \n",
       "170         United States  September 1, 2021          1997      R   89 min   \n",
       "233        United Kingdom    August 24, 2021          2021  TV-MA   82 min   \n",
       "455         United States      July 15, 2021          2021  TV-MA  100 min   \n",
       "770  United Arab Emirates       June 3, 2021          2021  TV-14   72 min   \n",
       "\n",
       "            listed_in                                        description  \\\n",
       "96   Music & Musicals  Using interviews and archival footage, this do...   \n",
       "170  Music & Musicals  The world and culture of rap song topics such ...   \n",
       "233  Music & Musicals  This documentary features some of rock's great...   \n",
       "455  Music & Musicals  Brazilian rapper Emicida brings his progressiv...   \n",
       "770  Music & Musicals  From pregnancy to album preparations, Lebanese...   \n",
       "\n",
       "     cluster  \n",
       "96         1  \n",
       "170        1  \n",
       "233        1  \n",
       "455        1  \n",
       "770        1  "
      ]
     },
     "execution_count": 47,
     "metadata": {},
     "output_type": "execute_result"
    }
   ],
   "source": [
    "d = df_1.explode('listed_in')\n",
    "d[d['listed_in']=='Music & Musicals'].iloc[:5]"
   ]
  },
  {
   "cell_type": "markdown",
   "id": "7ba6076f",
   "metadata": {},
   "source": [
    "Rhyme & Reason is a 1997 documentary film about rap and hip hop. Documentary filmmaker Peter Spirer interviewed over 80 significant artists in rap and hip hop music"
   ]
  },
  {
   "cell_type": "code",
   "execution_count": 66,
   "id": "db4d3438",
   "metadata": {},
   "outputs": [
    {
     "data": {
      "text/plain": [
       "<AxesSubplot:xlabel='listed_in'>"
      ]
     },
     "execution_count": 66,
     "metadata": {},
     "output_type": "execute_result"
    },
    {
     "data": {
      "image/png": "[encoded data removed]",
      "text/plain": [
       "<Figure size 432x288 with 1 Axes>"
      ]
     },
     "metadata": {
      "needs_background": "light"
     },
     "output_type": "display_data"
    }
   ],
   "source": [
    "df_2 = df[df['cluster']==2]\n",
    "df_2['listed_in']= df_2['listed_in'].str.split(', ').to_list()#.explode('listed_in')\n",
    "df_2.explode('listed_in').groupby('listed_in').count().reset_index().iloc[:,:2].plot(x='listed_in', y='show_id', kind='bar')"
   ]
  },
  {
   "cell_type": "markdown",
   "id": "a9193fdc",
   "metadata": {},
   "source": [
    "For international movies, we can see that most international movie belong to drama, comedies, A&A and romantic movies.\n",
    "This group is also has the most movies compare to other cluster"
   ]
  },
  {
   "cell_type": "code",
   "execution_count": 70,
   "id": "b4e87d7d",
   "metadata": {},
   "outputs": [],
   "source": [
    "def plot(c):\n",
    "    df_2 = df[df['cluster']==c]\n",
    "    df_2['listed_in']= df_2['listed_in'].str.split(', ').to_list()#.explode('listed_in')\n",
    "    df_2.explode('listed_in').groupby('listed_in').count().reset_index().iloc[:,:2].plot(x='listed_in', y='show_id', kind='bar')"
   ]
  },
  {
   "cell_type": "code",
   "execution_count": 71,
   "id": "366a6fb4",
   "metadata": {
    "scrolled": true
   },
   "outputs": [
    {
     "data": {
      "image/png": "[encoded data removed]",
      "text/plain": [
       "<Figure size 432x288 with 1 Axes>"
      ]
     },
     "metadata": {
      "needs_background": "light"
     },
     "output_type": "display_data"
    }
   ],
   "source": [
    "plot(5)"
   ]
  },
  {
   "cell_type": "markdown",
   "id": "364a1814",
   "metadata": {},
   "source": [
    "In group 5, Drama movie go with Comedies. Related to these is about Family and chidlren, action and adventure."
   ]
  },
  {
   "cell_type": "code",
   "execution_count": 73,
   "id": "2b834f69",
   "metadata": {},
   "outputs": [
    {
     "data": {
      "image/png": "[encoded data removed]",
      "text/plain": [
       "<Figure size 432x288 with 1 Axes>"
      ]
     },
     "metadata": {
      "needs_background": "light"
     },
     "output_type": "display_data"
    }
   ],
   "source": [
    "plot(4)"
   ]
  },
  {
   "cell_type": "markdown",
   "id": "5a875941",
   "metadata": {},
   "source": [
    "In the International TV-Show verse, which mostly making about Romantic movies and Dramas"
   ]
  },
  {
   "cell_type": "code",
   "execution_count": null,
   "id": "10bac067",
   "metadata": {},
   "outputs": [],
   "source": []
  }
 ],
 "metadata": {
  "kernelspec": {
   "display_name": "Python 3.8 (tensorflow)\n\n",
   "language": "python",
   "name": "tensorflow"
  },
  "language_info": {
   "codemirror_mode": {
    "name": "ipython",
    "version": 3
   },
   "file_extension": ".py",
   "mimetype": "text/x-python",
   "name": "python",
   "nbconvert_exporter": "python",
   "pygments_lexer": "ipython3",
   "version": "3.8.13"
  }
 },
 "nbformat": 4,
 "nbformat_minor": 5
}
